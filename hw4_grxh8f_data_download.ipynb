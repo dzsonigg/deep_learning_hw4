{
  "nbformat": 4,
  "nbformat_minor": 0,
  "metadata": {
    "colab": {
      "name": "hw4_grxh8f_data_download.ipynb",
      "provenance": [],
      "collapsed_sections": []
    },
    "kernelspec": {
      "display_name": "Python 3",
      "name": "python3"
    }
  },
  "cells": [
    {
      "cell_type": "code",
      "metadata": {
        "id": "W5OKul5ZJV22"
      },
      "source": [
        "import numpy as np\n",
        "import matplotlib.pyplot as plt\n",
        "import os\n",
        "import pandas as pd"
      ],
      "execution_count": null,
      "outputs": []
    },
    {
      "cell_type": "code",
      "metadata": {
        "id": "WeXVE9pQOPlk"
      },
      "source": [
        "# Downloaded: https://towardsdatascience.com/downloading-openimages-dataset-in-google-drive-using-colab-132502f0dbde"
      ],
      "execution_count": null,
      "outputs": []
    },
    {
      "cell_type": "code",
      "metadata": {
        "id": "nGe3iKdsPpW1",
        "outputId": "acea59fc-5bf0-438c-dc6f-6921417a73fc",
        "colab": {
          "base_uri": "https://localhost:8080/"
        }
      },
      "source": [
        "cd drive"
      ],
      "execution_count": null,
      "outputs": [
        {
          "output_type": "stream",
          "text": [
            "/content/drive\n"
          ],
          "name": "stdout"
        }
      ]
    },
    {
      "cell_type": "code",
      "metadata": {
        "id": "rUAhKsmuPsXq",
        "outputId": "c1b97bbd-d4a4-4ce7-f712-4e4e8c116f63",
        "colab": {
          "base_uri": "https://localhost:8080/"
        }
      },
      "source": [
        "cd My\\ Drive"
      ],
      "execution_count": null,
      "outputs": [
        {
          "output_type": "stream",
          "text": [
            "/content/drive/My Drive\n"
          ],
          "name": "stdout"
        }
      ]
    },
    {
      "cell_type": "code",
      "metadata": {
        "id": "dD8W3ZO7JW6U"
      },
      "source": [
        "!mkdir OpenImages\n"
      ],
      "execution_count": null,
      "outputs": []
    },
    {
      "cell_type": "code",
      "metadata": {
        "id": "qDpESFxCJZE5",
        "outputId": "82267840-fb9d-4973-a960-7fe71dd63649",
        "colab": {
          "base_uri": "https://localhost:8080/"
        }
      },
      "source": [
        "cd OpenImages\n"
      ],
      "execution_count": null,
      "outputs": [
        {
          "output_type": "stream",
          "text": [
            "/content/drive/My Drive/OpenImages\n"
          ],
          "name": "stdout"
        }
      ]
    },
    {
      "cell_type": "code",
      "metadata": {
        "id": "CLu9KqY0Je6_",
        "outputId": "ceacac96-daf9-4146-a037-abc85072d2a5",
        "colab": {
          "base_uri": "https://localhost:8080/"
        }
      },
      "source": [
        "!pwd\n"
      ],
      "execution_count": null,
      "outputs": [
        {
          "output_type": "stream",
          "text": [
            "/content/drive/My Drive/OpenImages\n"
          ],
          "name": "stdout"
        }
      ]
    },
    {
      "cell_type": "code",
      "metadata": {
        "id": "hrHCsneEJgVd",
        "outputId": "53d65e78-a688-4499-92ac-fbe814ed199b",
        "colab": {
          "base_uri": "https://localhost:8080/"
        }
      },
      "source": [
        "# Download required meta-files\n",
        "!wget https://storage.googleapis.com/openimages/2018_04/class-descriptions-boxable.csv\n",
        " \n",
        "!wget https://storage.googleapis.com/openimages/2018_04/train/train-annotations-bbox.csv\n",
        " \n",
        "!wget https://storage.googleapis.com/openimages/2018_04/validation/validation-annotations-bbox.csv\n",
        " \n",
        "!wget https://storage.googleapis.com/openimages/2018_04/test/test-annotations-bbox.csv"
      ],
      "execution_count": null,
      "outputs": [
        {
          "output_type": "stream",
          "text": [
            "--2020-11-09 10:37:55--  https://storage.googleapis.com/openimages/2018_04/class-descriptions-boxable.csv\n",
            "Resolving storage.googleapis.com (storage.googleapis.com)... 108.177.127.128, 172.217.218.128, 173.194.79.128, ...\n",
            "Connecting to storage.googleapis.com (storage.googleapis.com)|108.177.127.128|:443... connected.\n",
            "HTTP request sent, awaiting response... 200 OK\n",
            "Length: 11255 (11K) [text/csv]\n",
            "Saving to: ‘class-descriptions-boxable.csv.3’\n",
            "\n",
            "\r          class-des   0%[                    ]       0  --.-KB/s               \rclass-descriptions- 100%[===================>]  10.99K  --.-KB/s    in 0.002s  \n",
            "\n",
            "2020-11-09 10:37:55 (6.41 MB/s) - ‘class-descriptions-boxable.csv.3’ saved [11255/11255]\n",
            "\n",
            "--2020-11-09 10:37:55--  https://storage.googleapis.com/openimages/2018_04/train/train-annotations-bbox.csv\n",
            "Resolving storage.googleapis.com (storage.googleapis.com)... 173.194.69.128, 108.177.119.128, 108.177.126.128, ...\n",
            "Connecting to storage.googleapis.com (storage.googleapis.com)|173.194.69.128|:443... connected.\n",
            "HTTP request sent, awaiting response... 200 OK\n",
            "Length: 1194033454 (1.1G) [text/csv]\n",
            "Saving to: ‘train-annotations-bbox.csv.3’\n",
            "\n",
            "train-annotations-b 100%[===================>]   1.11G  45.1MB/s    in 28s     \n",
            "\n",
            "2020-11-09 10:38:23 (41.3 MB/s) - ‘train-annotations-bbox.csv.3’ saved [1194033454/1194033454]\n",
            "\n",
            "--2020-11-09 10:38:23--  https://storage.googleapis.com/openimages/2018_04/validation/validation-annotations-bbox.csv\n",
            "Resolving storage.googleapis.com (storage.googleapis.com)... 173.194.69.128, 108.177.119.128, 108.177.126.128, ...\n",
            "Connecting to storage.googleapis.com (storage.googleapis.com)|173.194.69.128|:443... connected.\n",
            "HTTP request sent, awaiting response... 200 OK\n",
            "Length: 17074036 (16M) [text/csv]\n",
            "Saving to: ‘validation-annotations-bbox.csv.2’\n",
            "\n",
            "validation-annotati 100%[===================>]  16.28M  49.1MB/s    in 0.3s    \n",
            "\n",
            "2020-11-09 10:38:24 (49.1 MB/s) - ‘validation-annotations-bbox.csv.2’ saved [17074036/17074036]\n",
            "\n",
            "--2020-11-09 10:38:24--  https://storage.googleapis.com/openimages/2018_04/test/test-annotations-bbox.csv\n",
            "Resolving storage.googleapis.com (storage.googleapis.com)... 108.177.126.128, 108.177.127.128, 173.194.69.128, ...\n",
            "Connecting to storage.googleapis.com (storage.googleapis.com)|108.177.126.128|:443... connected.\n",
            "HTTP request sent, awaiting response... 200 OK\n",
            "Length: 52174204 (50M) [text/csv]\n",
            "Saving to: ‘test-annotations-bbox.csv.2’\n",
            "\n",
            "test-annotations-bb 100%[===================>]  49.76M  41.1MB/s    in 1.2s    \n",
            "\n",
            "2020-11-09 10:38:25 (41.1 MB/s) - ‘test-annotations-bbox.csv.2’ saved [52174204/52174204]\n",
            "\n"
          ],
          "name": "stdout"
        }
      ]
    },
    {
      "cell_type": "code",
      "metadata": {
        "id": "v0h6ao_2J0og",
        "outputId": "ac33d3fb-1931-47f9-c003-6997cf2664e9",
        "colab": {
          "base_uri": "https://localhost:8080/"
        }
      },
      "source": [
        "#This magic function is used to create the files.downloadOI.py is the file name\n",
        "%%writefile downloadOI.py\n",
        "#Author : Sunita Nayak, Big Vision LLC\n",
        "\n",
        "#### Usage example: python3 downloadOI.py --classes 'Ice_cream,Cookie' --mode train\n",
        "\n",
        "import argparse\n",
        "import csv\n",
        "import subprocess\n",
        "import os\n",
        "from tqdm import tqdm\n",
        "import multiprocessing\n",
        "from multiprocessing import Pool as thread_pool\n",
        "\n",
        "cpu_count = multiprocessing.cpu_count()\n",
        "\n",
        "parser = argparse.ArgumentParser(description='Download Class specific images from OpenImagesV4')\n",
        "parser.add_argument(\"--mode\", help=\"Dataset category - train, validation or test\", required=True)\n",
        "parser.add_argument(\"--classes\", help=\"Names of object classes to be downloaded\", required=True)\n",
        "parser.add_argument(\"--nthreads\", help=\"Number of threads to use\", required=False, type=int, default=cpu_count*2)\n",
        "parser.add_argument(\"--occluded\", help=\"Include occluded images\", required=False, type=int, default=1)\n",
        "parser.add_argument(\"--truncated\", help=\"Include truncated images\", required=False, type=int, default=1)\n",
        "parser.add_argument(\"--groupOf\", help=\"Include groupOf images\", required=False, type=int, default=1)\n",
        "parser.add_argument(\"--depiction\", help=\"Include depiction images\", required=False, type=int, default=1)\n",
        "parser.add_argument(\"--inside\", help=\"Include inside images\", required=False, type=int, default=1)\n",
        "\n",
        "args = parser.parse_args()\n",
        "\n",
        "run_mode = args.mode\n",
        "\n",
        "threads = args.nthreads\n",
        "\n",
        "classes = []\n",
        "for class_name in args.classes.split(','):\n",
        "    classes.append(class_name)\n",
        "\n",
        "with open('./class-descriptions-boxable.csv', mode='r') as infile:\n",
        "    reader = csv.reader(infile)\n",
        "    dict_list = {rows[1]:rows[0] for rows in reader}\n",
        "\n",
        "subprocess.run(['rm', '-rf', run_mode])\n",
        "subprocess.run([ 'mkdir', run_mode])\n",
        "\n",
        "pool = thread_pool(threads)\n",
        "commands = []\n",
        "cnt = 0\n",
        "\n",
        "for ind in range(0, len(classes)):\n",
        "    \n",
        "    class_name = classes[ind]\n",
        "    print(\"Class \"+str(ind) + \" : \" + class_name)\n",
        "    \n",
        "    subprocess.run([ 'mkdir', run_mode+'/'+class_name])\n",
        "\n",
        "    command = \"grep \"+dict_list[class_name.replace('_', ' ')] + \" ./\" + run_mode + \"-annotations-bbox.csv\"\n",
        "    class_annotations = subprocess.run(command.split(), stdout=subprocess.PIPE).stdout.decode('utf-8')\n",
        "    class_annotations = class_annotations.splitlines()\n",
        "\n",
        "    for line in class_annotations:\n",
        "\n",
        "        line_parts = line.split(',')\n",
        "        \n",
        "        #IsOccluded,IsTruncated,IsGroupOf,IsDepiction,IsInside\n",
        "        if (args.occluded==0 and int(line_parts[8])>0):\n",
        "            print(\"Skipped %s\",line_parts[0])\n",
        "            continue\n",
        "        if (args.truncated==0 and int(line_parts[9])>0):\n",
        "            print(\"Skipped %s\",line_parts[0])\n",
        "            continue\n",
        "        if (args.groupOf==0 and int(line_parts[10])>0):\n",
        "            print(\"Skipped %s\",line_parts[0])\n",
        "            continue\n",
        "        if (args.depiction==0 and int(line_parts[11])>0):\n",
        "            print(\"Skipped %s\",line_parts[0])\n",
        "            continue\n",
        "        if (args.inside==0 and int(line_parts[12])>0):\n",
        "            print(\"Skipped %s\",line_parts[0])\n",
        "            continue\n",
        "\n",
        "        cnt = cnt + 1\n",
        "\n",
        "        command = 'aws s3 --no-sign-request --only-show-errors cp s3://open-images-dataset/'+run_mode+'/'+line_parts[0]+'.jpg '+ run_mode+'/'+class_name+'/'+line_parts[0]+'.jpg'\n",
        "        commands.append(command)\n",
        "        \n",
        "        with open('%s/%s/%s.txt'%(run_mode,class_name,line_parts[0]),'a') as f:\n",
        "            f.write(','.join([class_name, line_parts[4], line_parts[5], line_parts[6], line_parts[7]])+'\\n')\n",
        "\n",
        "print(\"Annotation Count : \"+str(cnt))\n",
        "commands = list(set(commands))\n",
        "print(\"Number of images to be downloaded : \"+str(len(commands)))\n",
        "\n",
        "list(tqdm(pool.imap(os.system, commands), total = len(commands) ))\n",
        "\n",
        "pool.close()\n",
        "pool.join()"
      ],
      "execution_count": null,
      "outputs": [
        {
          "output_type": "stream",
          "text": [
            "Overwriting downloadOI.py\n"
          ],
          "name": "stdout"
        }
      ]
    },
    {
      "cell_type": "code",
      "metadata": {
        "id": "EwMjLmeJKBUt",
        "outputId": "1ca6af3f-47a7-42f4-a6cf-a5f5cb4ca494",
        "colab": {
          "base_uri": "https://localhost:8080/"
        }
      },
      "source": [
        "!ls"
      ],
      "execution_count": null,
      "outputs": [
        {
          "output_type": "stream",
          "text": [
            "class-descriptions-boxable.csv\t  train\n",
            "class-descriptions-boxable.csv.1  train-annotations-bbox.csv\n",
            "class-descriptions-boxable.csv.2  train-annotations-bbox.csv.1\n",
            "class-descriptions-boxable.csv.3  train-annotations-bbox.csv.2\n",
            "downloadOI.py\t\t\t  train-annotations-bbox.csv.3\n",
            "test\t\t\t\t  validation\n",
            "test-annotations-bbox.csv\t  validation-annotations-bbox.csv\n",
            "test-annotations-bbox.csv.1\t  validation-annotations-bbox.csv.1\n",
            "test-annotations-bbox.csv.2\t  validation-annotations-bbox.csv.2\n"
          ],
          "name": "stdout"
        }
      ]
    },
    {
      "cell_type": "code",
      "metadata": {
        "id": "yQbWPvwPKIxQ",
        "outputId": "3f4a741e-aa5f-4d24-d6f8-7f7c6ba3c9a7",
        "colab": {
          "base_uri": "https://localhost:8080/"
        }
      },
      "source": [
        "!pip install awscli"
      ],
      "execution_count": null,
      "outputs": [
        {
          "output_type": "stream",
          "text": [
            "Requirement already satisfied: awscli in /usr/local/lib/python3.6/dist-packages (1.18.173)\n",
            "Requirement already satisfied: rsa<=4.5.0,>=3.1.2; python_version != \"3.4\" in /usr/local/lib/python3.6/dist-packages (from awscli) (4.5)\n",
            "Requirement already satisfied: s3transfer<0.4.0,>=0.3.0 in /usr/local/lib/python3.6/dist-packages (from awscli) (0.3.3)\n",
            "Requirement already satisfied: PyYAML<5.4,>=3.10; python_version != \"3.4\" in /usr/local/lib/python3.6/dist-packages (from awscli) (3.13)\n",
            "Requirement already satisfied: colorama<0.4.4,>=0.2.5; python_version != \"3.4\" in /usr/local/lib/python3.6/dist-packages (from awscli) (0.4.3)\n",
            "Requirement already satisfied: docutils<0.16,>=0.10 in /usr/local/lib/python3.6/dist-packages (from awscli) (0.15.2)\n",
            "Requirement already satisfied: botocore==1.19.13 in /usr/local/lib/python3.6/dist-packages (from awscli) (1.19.13)\n",
            "Requirement already satisfied: pyasn1>=0.1.3 in /usr/local/lib/python3.6/dist-packages (from rsa<=4.5.0,>=3.1.2; python_version != \"3.4\"->awscli) (0.4.8)\n",
            "Requirement already satisfied: python-dateutil<3.0.0,>=2.1 in /usr/local/lib/python3.6/dist-packages (from botocore==1.19.13->awscli) (2.8.1)\n",
            "Requirement already satisfied: urllib3<1.26,>=1.25.4; python_version != \"3.4\" in /usr/local/lib/python3.6/dist-packages (from botocore==1.19.13->awscli) (1.25.11)\n",
            "Requirement already satisfied: jmespath<1.0.0,>=0.7.1 in /usr/local/lib/python3.6/dist-packages (from botocore==1.19.13->awscli) (0.10.0)\n",
            "Requirement already satisfied: six>=1.5 in /usr/local/lib/python3.6/dist-packages (from python-dateutil<3.0.0,>=2.1->botocore==1.19.13->awscli) (1.15.0)\n"
          ],
          "name": "stdout"
        }
      ]
    },
    {
      "cell_type": "code",
      "metadata": {
        "id": "8UCRsVjCKLY8"
      },
      "source": [
        "# Download Sink and Toilet images for test \n",
        "!python3 downloadOI.py --classes \"Sink,Toilet\" --mode test\n",
        "# Download Sink and Toilet images for train\n",
        "!python3 downloadOI.py --classes \"Sink,Toilet\" --mode train\n",
        "# Download Sink and Toilet images for validation\n",
        "!python3 downloadOI.py --classes \"Sink,Toilet\" --mode validation"
      ],
      "execution_count": null,
      "outputs": []
    },
    {
      "cell_type": "code",
      "metadata": {
        "id": "ZTX0LcVoKzYF",
        "outputId": "cb5f13f7-b54c-4f9c-a7ed-3df69948f06d",
        "colab": {
          "background_save": true,
          "base_uri": "https://localhost:8080/"
        }
      },
      "source": [
        "# Download Drill images for test \n",
        "!python3 downloadOI.py --classes \"Laptop\" --mode test\n",
        "# Download Drill images for train\n",
        "!python3 downloadOI.py --classes \"Laptop\" --mode train\n",
        "# Download Drill images for validation\n",
        "!python3 downloadOI.py --classes \"Laptop\" --mode validation"
      ],
      "execution_count": null,
      "outputs": [
        {
          "output_type": "stream",
          "text": [
            "Class 0 : Laptop\n",
            "Annotation Count : 199\n",
            "Number of images to be downloaded : 177\n",
            "100% 177/177 [05:46<00:00,  1.96s/it]\n",
            "Class 0 : Laptop\n",
            "Annotation Count : 9327\n",
            "Number of images to be downloaded : 5528\n",
            "100% 5528/5528 [2:58:24<00:00,  1.94s/it]\n",
            "Class 0 : Laptop\n",
            "Annotation Count : 61\n",
            "Number of images to be downloaded : 47\n",
            "100% 47/47 [01:40<00:00,  2.13s/it]\n"
          ],
          "name": "stdout"
        }
      ]
    },
    {
      "cell_type": "code",
      "metadata": {
        "id": "mt36XsILlkOw"
      },
      "source": [
        ""
      ],
      "execution_count": null,
      "outputs": []
    },
    {
      "cell_type": "markdown",
      "metadata": {
        "id": "_y29PT-Qvlu1"
      },
      "source": [
        "So we have three classes: Sink, Toilet and Laptop. In the next notebook i'm going to prepare these pictures."
      ]
    },
    {
      "cell_type": "code",
      "metadata": {
        "id": "mir-8qOqv8_t"
      },
      "source": [
        ""
      ],
      "execution_count": null,
      "outputs": []
    }
  ]
}